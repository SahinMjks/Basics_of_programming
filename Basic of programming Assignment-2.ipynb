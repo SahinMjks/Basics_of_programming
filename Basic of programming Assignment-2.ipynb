{
 "cells": [
  {
   "cell_type": "code",
   "execution_count": 2,
   "id": "20b8f714",
   "metadata": {},
   "outputs": [],
   "source": [
    "import math"
   ]
  },
  {
   "cell_type": "code",
   "execution_count": 6,
   "id": "6651428c",
   "metadata": {},
   "outputs": [],
   "source": [
    "def find_bisector(a1,b1,c1,a2,b2,c2):\n",
    "    \n",
    "    # Now, calculating  gradient as m = -a / b\n",
    "    m1, m2 = -1*(a1/b1), -1*(a2/b2)\n",
    "    \n",
    "    # Now, to get the angle between the lines, we use the formula\n",
    "    # tan(theta) = |(m1 - m2) / (1 + m1m2)|\n",
    "    \n",
    "    tan_theta = abs((m1 - m2) / (1 + m1 * m2))\n",
    "    print(\"Tan_theta:\",tan_theta,\"Atan\",math.atan(tan_theta))\n",
    "    \n",
    "    # Next, according to question, we are calculating the obtuse bisect\n",
    "    obtuse_bisect = (math.pi - math.atan(tan_theta)) / 2\n",
    "    tan_obtuse_bisect = math.tan(obtuse_bisect)\n",
    "    print(\"Obtuse Bisect: \",obtuse_bisect,\" tan obtuse bisect: \",tan_obtuse_bisect)\n",
    "    \n",
    "    # Now, we finally have two lines and an angle, and we have to find the bisector\n",
    "    # So after tweaking the previous equation, we will get\n",
    "    # m2 = |(m1 - tan(theta)) / (1 + m1.tan(theta))|\n",
    "    p1 = (m1 - tan_obtuse_bisect) / (1 + m1 * tan_obtuse_bisect)\n",
    "    p2 = (m2 - tan_obtuse_bisect) / (1 + m2 * tan_obtuse_bisect)\n",
    "    print(\"p1: \",p1,\"p2: \",p2)\n",
    "    \n",
    "    # We are taking the minimum gradient from those two lines as final gradient\n",
    "    m = round(min(p1, p2), 3)\n",
    "    print(\"m:\",m)\n",
    "    \n",
    "    # Again we are finding the intersection point of the lines,\n",
    "    # because our bisector will go through the same line, and we can calculate c\n",
    "    x0 = (b1*c2 - b2*c1) / (a1*b2 - a2*b1)\n",
    "    y0 = (c1*a2 - c2*a1) / (a1*b2 - a2*b1)\n",
    "    print(\"x0:\",x0,\"y0:\",y0)\n",
    "    # Now, by putting the values in c = y - m.x\n",
    "    c = round(y0 - m * x0, 3)\n",
    "    print(\"C: \",c)\n",
    "    \n",
    "    # This is the final equation\n",
    "    print(f'The equation is y = {m}x + {c}')\n",
    "    "
   ]
  },
  {
   "cell_type": "code",
   "execution_count": 7,
   "id": "d783291a",
   "metadata": {},
   "outputs": [
    {
     "name": "stdout",
     "output_type": "stream",
     "text": [
      "Tan_theta: 0.376068376068376 Atan 0.3597069995849565\n",
      "Obtuse Bisect:  1.3909428270024182  tan obtuse bisect:  5.4999999999999964\n",
      "p1:  1.0789473684210529 p2:  0.5000000000000002\n",
      "m: 0.5\n",
      "x0: 1.0 y0: 1.0\n",
      "C:  0.5\n",
      "The equation is y = 0.5x + 0.5\n"
     ]
    }
   ],
   "source": [
    "find_bisector(4, 3, -7, 24, 7, -31)\n"
   ]
  },
  {
   "cell_type": "markdown",
   "id": "0f11d1df",
   "metadata": {},
   "source": [
    "Here I Can See That The obtuse Bisectors Equation for the straight line 4x+3y-7=0 and 24x+7y-31=0 is y=0.5x+0.5"
   ]
  },
  {
   "cell_type": "code",
   "execution_count": 5,
   "id": "2e4cb982",
   "metadata": {},
   "outputs": [
    {
     "name": "stdout",
     "output_type": "stream",
     "text": [
      "Tan_theta: 0.5892857142857143\n",
      "Obtuse Bisect:  1.3045442776439713  tan obtuse bisect:  3.666666666666667\n",
      "p1:  0.7777777777777777 p2:  2.523809523809524\n",
      "m: 0.778\n",
      "x0: 1.5454545454545454 y0: -2.909090909090909\n",
      "C:  -4.111\n",
      "The equation is y = 0.778x + -4.111\n"
     ]
    }
   ],
   "source": [
    "find_bisector(12, 5, -4, 3, 4, 7)"
   ]
  },
  {
   "cell_type": "markdown",
   "id": "f99d5798",
   "metadata": {},
   "source": [
    "Here I Can See That The obtuse Bisectors Equation for the straight line 4x+3y-7=0 and 24x+7y-31=0 is y=0.5x+0.5"
   ]
  },
  {
   "cell_type": "code",
   "execution_count": null,
   "id": "66221f3a",
   "metadata": {},
   "outputs": [],
   "source": []
  }
 ],
 "metadata": {
  "kernelspec": {
   "display_name": "Python 3",
   "language": "python",
   "name": "python3"
  },
  "language_info": {
   "codemirror_mode": {
    "name": "ipython",
    "version": 3
   },
   "file_extension": ".py",
   "mimetype": "text/x-python",
   "name": "python",
   "nbconvert_exporter": "python",
   "pygments_lexer": "ipython3",
   "version": "3.8.8"
  }
 },
 "nbformat": 4,
 "nbformat_minor": 5
}
