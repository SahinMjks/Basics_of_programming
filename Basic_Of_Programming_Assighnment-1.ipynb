{
 "cells": [
  {
   "cell_type": "code",
   "execution_count": 60,
   "id": "37e8607b",
   "metadata": {},
   "outputs": [],
   "source": [
    "import matplotlib.pyplot as plt\n",
    "import math\n",
    "import numpy as np"
   ]
  },
  {
   "cell_type": "code",
   "execution_count": 65,
   "id": "c92085e3",
   "metadata": {},
   "outputs": [],
   "source": [
    "A = np.array([2, 2])\n",
    "B = np.array([6, 3])\n",
    "C = np.array([4,11])"
   ]
  },
  {
   "cell_type": "code",
   "execution_count": 71,
   "id": "8609cca6",
   "metadata": {},
   "outputs": [
    {
     "name": "stdout",
     "output_type": "stream",
     "text": [
      "The distance between points AB is 4.123105625617661\n",
      "The distance between points BC is 8.246211251235321\n",
      "The distance between points AC is 9.219544457292887\n",
      "Maxium Distance is: 9.219544457292887\n",
      "It's an right angled triangle\n",
      "Base^2+Height^2: 85.0 Hypotenous^2: 85.0\n"
     ]
    }
   ],
   "source": [
    "AB = np.linalg.norm(B-A)\n",
    "print(\"The distance between points AB is\",AB)\n",
    "BC = np.linalg.norm(C-B)\n",
    "print(\"The distance between points BC is\",BC)\n",
    "AC= np.linalg.norm(C-A)\n",
    "print(\"The distance between points AC is\",AC)\n",
    "\n",
    "#Finding Maximum Distance to make it as hypotenous\n",
    "max_distance=max(AB,BC,AC)\n",
    "print(\"Maxium Distance is:\",max_distance)\n",
    "\n",
    "if(AB**2+BC**2+AC**2-max_distance**2==max_distance**2):\n",
    "    print(\"It's an right angled triangle\")\n",
    "    \n",
    "else:\n",
    "    print(\"not Right angled triangle\")\n",
    "    \n",
    "print(\"Base^2+Height^2:\",AB**2+BC**2+AC**2-max_distance**2,\"Hypotenous^2:\",max_distance**2)"
   ]
  },
  {
   "cell_type": "code",
   "execution_count": 68,
   "id": "96d4c223",
   "metadata": {},
   "outputs": [],
   "source": [
    "#Functions To Plot The Points\n",
    "\n",
    "def line_gen(A,B):\n",
    "    len =10\n",
    "    dim = A.shape[0]\n",
    "    x_AB = np.zeros((dim,len))\n",
    "    lam_1 = np.linspace(0,1,len)\n",
    "    for i in range(len):\n",
    "        temp1 = A + lam_1[i]*(B-A)\n",
    "        x_AB[:,i]= temp1.T\n",
    "    return x_AB"
   ]
  },
  {
   "cell_type": "code",
   "execution_count": 69,
   "id": "3b65b74a",
   "metadata": {},
   "outputs": [
    {
     "data": {
      "image/png": "[encoded data removed]",
      "text/plain": [
       "<Figure size 432x288 with 1 Axes>"
      ]
     },
     "metadata": {
      "needs_background": "light"
     },
     "output_type": "display_data"
    }
   ],
   "source": [
    "x_AB = line_gen(A,B)\n",
    "x_BC = line_gen(B,C)\n",
    "x_CA = line_gen(C,A)\n",
    "\n",
    "#Plotting all lines\n",
    "plt.plot(x_AB[0,:],x_AB[1,:],label='AB')\n",
    "plt.plot(x_BC[0,:],x_BC[1,:],label='BC')\n",
    "plt.plot(x_CA[0,:],x_CA[1,:],label='CA')\n",
    "\n",
    "#plotting The Points\n",
    "plt.plot(A[0], A[1], 'o')\n",
    "plt.text(A[0] + (0.3), A[1] +(0.3) , 'A')\n",
    "plt.plot(B[0], B[1], 'o')\n",
    "plt.text(B[0] + (0.1), B[1] * (1) , 'B')\n",
    "plt.plot(C[0], C[1], 'o')\n",
    "plt.text(C[0] * (1 -0.1), C[1] * (1 + 0.1) , 'C')\n",
    "\n",
    "\n",
    "plt.xlabel('x')\n",
    "plt.ylabel('y')\n",
    "\n",
    "plt.legend(loc='best')\n",
    "plt.show()"
   ]
  },
  {
   "cell_type": "code",
   "execution_count": null,
   "id": "4e897b77",
   "metadata": {},
   "outputs": [],
   "source": []
  }
 ],
 "metadata": {
  "kernelspec": {
   "display_name": "Python 3",
   "language": "python",
   "name": "python3"
  },
  "language_info": {
   "codemirror_mode": {
    "name": "ipython",
    "version": 3
   },
   "file_extension": ".py",
   "mimetype": "text/x-python",
   "name": "python",
   "nbconvert_exporter": "python",
   "pygments_lexer": "ipython3",
   "version": "3.8.8"
  }
 },
 "nbformat": 4,
 "nbformat_minor": 5
}
