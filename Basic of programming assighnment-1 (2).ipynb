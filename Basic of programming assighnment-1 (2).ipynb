{
 "cells": [
  {
   "cell_type": "code",
   "execution_count": 1,
   "id": "98e2dccb",
   "metadata": {},
   "outputs": [],
   "source": [
    "import math\n",
    "import matplotlib.pyplot as plt"
   ]
  },
  {
   "cell_type": "code",
   "execution_count": 15,
   "id": "d831ae62",
   "metadata": {},
   "outputs": [
    {
     "name": "stdout",
     "output_type": "stream",
     "text": [
      "p1-p2: 5.0\n",
      "p1-p3: 83.0\n",
      "p2-p3: 66.0\n",
      "Not Right Angled Triangle\n"
     ]
    },
    {
     "data": {
      "image/png": "[encoded data removed]",
      "text/plain": [
       "<Figure size 432x288 with 1 Axes>"
      ]
     },
     "metadata": {
      "needs_background": "light"
     },
     "output_type": "display_data"
    }
   ],
   "source": [
    "p1=[2,2] #Point 1\n",
    "p2=[6,3] #Point 2\n",
    "p3=[4,11] #point 3\n",
    "\n",
    "#plotting The Points\n",
    "plt.scatter(x=2,y=2)\n",
    "plt.scatter(x=6,y=3)\n",
    "plt.scatter(x=4,y=11)\n",
    "plt.xlabel(\"X Axis\")\n",
    "plt.ylabel(\"Y Axis\")\n",
    "\n",
    "#Now Distance Between Each Point\n",
    "\n",
    "p1_p2_dist=math.sqrt((p1[0]-p2[0])**2)+((p1[1]-p2[1])**2)\n",
    "\n",
    "p1_p3_dist=math.sqrt((p1[0]-p3[0])**2)+((p1[1]-p3[1])**2)\n",
    "\n",
    "p2_p3_dist=math.sqrt((p2[0]-p3[0])**2)+((p2[1]-p3[1])**2)\n",
    "\n",
    "#Printing Values of each points\n",
    "print(\"p1-p2:\",p1_p2_dist)\n",
    "\n",
    "print(\"p1-p3:\" ,p1_p3_dist)\n",
    "\n",
    "print(\"p2-p3:\",p2_p3_dist)\n",
    "\n",
    "max_dist=max(p1_p2_dist,p1_p3_dist,p2_p3_dist)\n",
    "\n",
    "\n",
    "#If  base2 + height2==hypotenous2 then it's right angled triangle\n",
    "\n",
    "if((p1_p2_dist)**2+(p2_p3_dist)**2+(p1_p3_dist)**2-max_dist**2 ==max_dist**2):\n",
    "    print(\"Right Angled Triangle\")\n",
    "else:\n",
    "    print(\"Not Right Angled Triangle\")"
   ]
  },
  {
   "cell_type": "code",
   "execution_count": null,
   "id": "6d41b2fe",
   "metadata": {},
   "outputs": [],
   "source": []
  }
 ],
 "metadata": {
  "kernelspec": {
   "display_name": "Python 3",
   "language": "python",
   "name": "python3"
  },
  "language_info": {
   "codemirror_mode": {
    "name": "ipython",
    "version": 3
   },
   "file_extension": ".py",
   "mimetype": "text/x-python",
   "name": "python",
   "nbconvert_exporter": "python",
   "pygments_lexer": "ipython3",
   "version": "3.8.8"
  }
 },
 "nbformat": 4,
 "nbformat_minor": 5
}
